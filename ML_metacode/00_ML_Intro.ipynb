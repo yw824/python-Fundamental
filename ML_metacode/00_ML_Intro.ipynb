{
 "cells": [
  {
   "cell_type": "markdown",
   "metadata": {},
   "source": [
    "### 머신러닝 , 딥러닝 , 인공지능"
   ]
  },
  {
   "cell_type": "markdown",
   "metadata": {},
   "source": [
    "딥러닝은 머신러닝에 포함되는 개념이고 , 머신러닝은 인공지능에 포함된다."
   ]
  },
  {
   "cell_type": "markdown",
   "metadata": {},
   "source": [
    "- 인공지능 : 사람을 흉내낼 수 있는 모든 기술 및 알고리즘을 말한다."
   ]
  },
  {
   "cell_type": "markdown",
   "metadata": {},
   "source": [
    "- 머신 러닝 : 전문가가 준 데이터를 기계가 학습하는 것\n",
    "    - 데이터를 줄 전문가가 필요하다\n",
    "    - 전문가가 줄 데이터가 필요하다\n",
    "    - 학습할 기계가 필요하다.\n",
    "    - 학습을 해야 한다.\n",
    "\n",
    "- 전문가가 준 데이터를 기계가 학습할 수 있도록 하는 알고리즘을 설계하고 구현하는 것"
   ]
  },
  {
   "cell_type": "markdown",
   "metadata": {},
   "source": [
    "- 딥 러닝 : 똑같이 전문가가 준 데이터를 기계가 학습하는데, \n",
    "    - 신경망(neural network)이라고 하는 기계를 사용한다.\n",
    "    - 머신러닝과의 차이점 : 기계의 종류\n",
    "    - 머신러닝 : 통계적이고 작은 종류의 데이터를 다룰 때 사용\n",
    "    - 딥 러닝 :  신경망이라고 하는 크기가 큰 데이터를 사용한다."
   ]
  },
  {
   "cell_type": "markdown",
   "metadata": {},
   "source": [
    "## Machine Learning"
   ]
  },
  {
   "cell_type": "markdown",
   "metadata": {},
   "source": [
    "단어 그대로 기계를 학습한다."
   ]
  },
  {
   "cell_type": "markdown",
   "metadata": {},
   "source": [
    "- 머신 : 인간이 제공한 데이터(에 존재하는 관계)를 표현할 수 있는 모델( = 함수 )\n",
    "\n",
    "데이터의 구조 >> <br>\n",
    "- 피처 : 데이터의 구조\n",
    "- 라벨 : 정보를 예측\n",
    "- 피처와 라벨 간의 관계( = 함수 )를 파악할 수 있어야 한다.\n"
   ]
  },
  {
   "cell_type": "markdown",
   "metadata": {},
   "source": [
    "- 학습 : 데이터를 가장 잘 표현할 수 있는 모델을 찾는 것( = 모델의 파라미터 최적화 ) <br>\n",
    "    - 파라미터 : 가령 1차함수라면 기울기와 절편을 의미"
   ]
  },
  {
   "cell_type": "markdown",
   "metadata": {},
   "source": [
    "- 어떻게 ? \n",
    "    - 통계적인 방법 혹은 경사하강법을 이용해 최적의 파라미터를 찾는다.\n",
    "    - 머신러닝은 통계적인 방법을 주로 사용하고, 경사하강법을 쓰기도 한다.\n",
    "    - 딥러닝은 거의 경사하강법을 사용한다."
   ]
  },
  {
   "cell_type": "markdown",
   "metadata": {},
   "source": [
    "#### 머신 러닝에서의 데이터 형태"
   ]
  },
  {
   "cell_type": "markdown",
   "metadata": {},
   "source": [
    "어떤 형태의 데이터가 머신에게 주어지는 지에 따라 다음의 세부 분야들로 구분된다."
   ]
  },
  {
   "cell_type": "markdown",
   "metadata": {},
   "source": [
    "강의 10:08에 그림 있음"
   ]
  },
  {
   "cell_type": "markdown",
   "metadata": {},
   "source": [
    "데이터에 대해서 \n",
    "- 피처 : 추상적인 데이터들의 집합( 예측하고 싶은 대상을 예측할 때의 근거 - 예 : 야구선수의 연차, 스탯, 승리 기여도 등 )\n",
    "- 라벨 : 정답지( = 예측하고 싶은 대상 - 예 : 야구선수의 연봉 : 값의 범위 혹은 실제 값들이 정해져 있다. )"
   ]
  },
  {
   "cell_type": "markdown",
   "metadata": {},
   "source": [
    "- 지도학습 : 정답지가 존재하는 형태에서 데이터를 분류하는 형태\n"
   ]
  },
  {
   "cell_type": "markdown",
   "metadata": {},
   "source": [
    "- 비지도학습 : 정답지가 존재하지 않는 형태에서 모델을 학습하는 형태 - 요즘의 대부분의 경우\n",
    "    - 얻을 수는 있지만, 비현실적으로 비용이 많이 드는 경우\n",
    "    - 비지도학습을 위해 데이터를 분류하는 군집화(클러스터링) 사용한다.\n",
    "    - 혹은 여러 차원에서 존재하는 데이터를 차원을 줄이는 것에도 해당"
   ]
  },
  {
   "cell_type": "markdown",
   "metadata": {},
   "source": [
    "- 강화 학습 : 상태와 보상이 존재하고 , \n",
    "    - 상태(status) : 강의자료의 그림에서, 하나의 동그라미가 하나의 상태를 의미\n",
    "    - 보상(reward) : 강의자료의 그림에서, 하나의 상태에서 다른 상태로 이동할 때 초록색의 값만큼의 보상이 발생\n",
    "- 보상을 키워주는 식으로 최적화하는 것이 강화학습의 원리\n",
    "- 알파고가 강화학습의 예"
   ]
  },
  {
   "cell_type": "markdown",
   "metadata": {},
   "source": [
    "#### 지도학습\n",
    "1. 회귀\n",
    "    - 선형, 비선형 회귀( Linear and Nonlinear Regression )\n",
    "    - 경사하강법( Gradient Descent )\n",
    "    - 편향과 분산의 저울질( Bias and Variance Trade-Off )\n"
   ]
  },
  {
   "cell_type": "markdown",
   "metadata": {},
   "source": [
    "2. 분류\n",
    "    - 로지스틱과 함수 회귀( Logistic and Softmax Regression)\n",
    "    - 서포트 벡터 머신( SVM )\n",
    "    - 결정 트리( Decision Tree )\n",
    "    - 선형 판별 분석(LDA)\n"
   ]
  },
  {
   "cell_type": "markdown",
   "metadata": {},
   "source": [
    "3. 앙상블 학습 : 모델 여러 개를 학습하여 전체 모델을 예측(평균)하는 것\n",
    "    - Bagging\n",
    "    - Boosting"
   ]
  },
  {
   "cell_type": "markdown",
   "metadata": {},
   "source": [
    "#### 비지도 학습\n",
    "1. 차원 축소 ( 전처리 과정에 사용 )\n",
    "    - 전처리 : 데이터에 있는 noise(안 좋은 데이터 = 아웃라이어)를 제거하는 과정, 차원 축소( 유의미한 데이터 차원(=특성)만을 남겨두기 )\n",
    "    - PCA( Principal Component Analysis )\n",
    "    - SVD( Singular Value Decomposition )"
   ]
  },
  {
   "cell_type": "markdown",
   "metadata": {},
   "source": [
    "2. 군집화\n",
    "- K-means\n",
    "- Mean Shift\n",
    "- Gaussian Mixture Model\n",
    "- DBSCAN"
   ]
  },
  {
   "cell_type": "markdown",
   "metadata": {},
   "source": [
    "### ML vs DL"
   ]
  },
  {
   "cell_type": "markdown",
   "metadata": {},
   "source": [
    "#### ML\n"
   ]
  },
  {
   "cell_type": "markdown",
   "metadata": {},
   "source": [
    "모델의 모양이 작고, 통계적이다. <br>\n",
    "통계적인 방법을 통해 <br>\n",
    "모델 학습"
   ]
  },
  {
   "cell_type": "markdown",
   "metadata": {},
   "source": [
    "#### DL"
   ]
  },
  {
   "cell_type": "markdown",
   "metadata": {},
   "source": [
    "수학을 많이 몰라도 현업에서 사용 가능 <br>\n",
    "보통 경사하강법 통해 모델 학습 <br>\n",
    "모델의 모양이 신경망 형태의 구조를 가지고 있다."
   ]
  },
  {
   "cell_type": "markdown",
   "metadata": {},
   "source": [
    "그래픽카드로 처리를 하다 보니 <br>\n",
    "모델의 크기가 매우 커진다. + <br>\n",
    "가중치, 파라미터가 많아진다. -> 관계를 표현하는 능력이 향상되고, 더 좋은 모델을 뽑아낼 수 있다.<br>\n",
    "-> 데이터 수가 많아야 하고, 연산하기 위한 연산속도도 빨라야 한다."
   ]
  },
  {
   "cell_type": "markdown",
   "metadata": {},
   "source": [
    "실제 기업에서는 데이터가 매우 적고, 연산 속도를 신경써야 하는 경우도 비일비재하다. <BR>\n",
    "딥 러닝이라고 표시하고, 실제로는 머신 러닝을 사용하기도 한다."
   ]
  },
  {
   "cell_type": "markdown",
   "metadata": {},
   "source": []
  }
 ],
 "metadata": {
  "language_info": {
   "name": "python"
  },
  "orig_nbformat": 4
 },
 "nbformat": 4,
 "nbformat_minor": 2
}
