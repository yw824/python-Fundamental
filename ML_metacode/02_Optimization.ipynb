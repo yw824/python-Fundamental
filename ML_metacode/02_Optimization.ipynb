{
 "cells": [
  {
   "cell_type": "markdown",
   "metadata": {},
   "source": [
    "## Advanced Math for ML"
   ]
  },
  {
   "cell_type": "markdown",
   "metadata": {},
   "source": [
    "### 편미분"
   ]
  },
  {
   "cell_type": "markdown",
   "metadata": {},
   "source": [
    "- 원하는 변수에 대해서만 미분하는 것\n",
    "- 그 외의 모든 것들은 상수 취급\n",
    "- əy/əx\n",
    "- 예 ) f(x, y) = x^2 + xy + 3\n",
    "    - df/dx = 2x + y + 0\n",
    "    - df/dy = 0 + x + 0"
   ]
  },
  {
   "cell_type": "markdown",
   "metadata": {},
   "source": [
    "#### 연쇄법칙 ( chain rule )"
   ]
  },
  {
   "cell_type": "markdown",
   "metadata": {},
   "source": [
    "- dy/dx = (dy/du) * (du/dx)\n",
    "- 예 ) y = ln(u) , u = 2x + 4\n",
    "    - -> y' = ln(u)' * (2x+4)'\n",
    "    - -> 1/(2x+4) *2 = 1/(x+2) "
   ]
  },
  {
   "cell_type": "markdown",
   "metadata": {},
   "source": [
    "## Loss Function ( 손실 함수 )"
   ]
  },
  {
   "cell_type": "markdown",
   "metadata": {},
   "source": [
    "### 평균 제곱 오차 ( mean Squared Error , MSE )"
   ]
  },
  {
   "cell_type": "markdown",
   "metadata": {},
   "source": [
    "- 회귀 문제에서의 대표적인 손실 함수\n",
    "- 오차의 제곱의 평균"
   ]
  },
  {
   "cell_type": "markdown",
   "metadata": {},
   "source": [
    "- L = (1/n) * sum( (yi - yi')^2 )"
   ]
  },
  {
   "cell_type": "markdown",
   "metadata": {},
   "source": [
    "### 최소 제곱법( Least Square Method )"
   ]
  },
  {
   "cell_type": "markdown",
   "metadata": {},
   "source": [
    "- 최적의 파라미터를 구할 수 있는 한 방법\n",
    "- 데이터에 대한 오차를 최소화하도록 한다.\n",
    "- 기울기 a와 절편 b의 일차 함수 L = sum( (yi - (axi+b)^2 ) \n"
   ]
  },
  {
   "cell_type": "markdown",
   "metadata": {},
   "source": [
    "#### `풀이 방법 1 : 미분했을 때 순간변화율이 최소( 0 )이 되는 곳을 찾는다.` - a와 b에 대해 각각 편미분한다.\n",
    "- 0 = dL/da = sum( 2*(axi+b) )*(-xi) = 2*( a*sum(xi^2) + b*sum(xi) - sum(xi*yi) )\n",
    "- 0 = dL/db = sum( 2*yi - (axi+b) )*(-1) = 2*( a*sum(xi) + b*sum(1) - sum(yi) ) "
   ]
  },
  {
   "cell_type": "markdown",
   "metadata": {},
   "source": [
    "두 식을 뺴면 , <br>\n",
    "a* = sum( (x-x')*(y-y') )/sum((x-x')^2)\n",
    "b* = y' - (a*)*x'"
   ]
  },
  {
   "cell_type": "markdown",
   "metadata": {},
   "source": [
    "#### `풀이 방법 2 : 행렬에 대한 편미분`"
   ]
  },
  {
   "cell_type": "markdown",
   "metadata": {},
   "source": [
    "- 최적의 파라미터를 구할 수 있는 한 방법으로 , 데이터에 대한 오차를 최소화하도록 한다.\n",
    "- 기울기 a와 절편 b의 일차 함수 L = sum( (yi - (axi+b)^2 ) "
   ]
  },
  {
   "cell_type": "markdown",
   "metadata": {},
   "source": [
    "y = (y1, y2 ,,, yn)T <br>\n",
    "X = (1, x1, x2 ,, xn)T <br>\n",
    "W = (b, a, a,,,,)T <br>"
   ]
  },
  {
   "cell_type": "markdown",
   "metadata": {},
   "source": [
    "가령 y = ax + b를 행렬로 표현하면 <br>\n",
    "Y = (y) <br>\n",
    "X = (1 x)T <br>\n",
    "W = (b a)T <br>"
   ]
  },
  {
   "cell_type": "markdown",
   "metadata": {},
   "source": [
    "- || Y - WX ||^2 행렬에 대한 편미분\n",
    "- -2 * XT * ( Y - WX ) = 0\n",
    "- W = (XT * X)^-1 * WT * Y"
   ]
  },
  {
   "cell_type": "markdown",
   "metadata": {},
   "source": [
    "##### 예시"
   ]
  },
  {
   "cell_type": "markdown",
   "metadata": {},
   "source": [
    "강의 1:58:13의 자료에 다중 선형 회귀 밑에 예시가 있다. <br>\n",
    "x' = 5\n",
    "y' = 60이 된다."
   ]
  },
  {
   "cell_type": "markdown",
   "metadata": {},
   "source": [
    "a* = 6, \n",
    "b* = 30이다. <br>\n",
    "즉, y = 6 * x + 30"
   ]
  },
  {
   "cell_type": "markdown",
   "metadata": {},
   "source": [
    "## 경사 하강법"
   ]
  },
  {
   "cell_type": "markdown",
   "metadata": {},
   "source": [
    "복잡한 함수의 경우 ,, <br>\n",
    "- 다중 선형 회귀 , 다항 회귀 , 비선형 함수\n",
    "- 최소 제곱법으로 해결하기 어렵다.\n",
    "- 어떻게 최적의 파라미터를 찾을 수 있을까 ? "
   ]
  },
  {
   "cell_type": "markdown",
   "metadata": {},
   "source": [
    "이전에 배웠던, 역행렬 구하는 과정( XT * X )^-1 을 구하는 과정이 있다고 할 때 , <br>\n",
    "이 행렬이 가령 100 * 100 이라면 어떻게 할 것인가 ? <br>\n",
    "계산 비용 자체가 엄청나게 많이 발생할 것이다."
   ]
  },
  {
   "cell_type": "markdown",
   "metadata": {},
   "source": [
    "이를 위해 경사 하강법을 사용한다,"
   ]
  },
  {
   "cell_type": "markdown",
   "metadata": {},
   "source": [
    "### 경사 하강법 ( Gradient Descent )"
   ]
  },
  {
   "cell_type": "markdown",
   "metadata": {},
   "source": [
    "- 손실 함수의 값을 최소화시키는 방향으로 파라미터를 업데이트하자 !"
   ]
  },
  {
   "cell_type": "markdown",
   "metadata": {},
   "source": [
    "- 함수의 최솟값은 무조건 `순간 변화율이 0`이다 !\n",
    "- 손실 함수에 대한 미분값이 0이 되는 방향으로 파라미터의 업데이트 방향을 결정"
   ]
  },
  {
   "cell_type": "markdown",
   "metadata": {},
   "source": [
    "지금 갖고 있는 a0라는 파라미터에서 손실함수에 대한 순간 변화율을 구하여 , <br>\n",
    "0이 되는 지점까지 업데이트한다."
   ]
  },
  {
   "cell_type": "markdown",
   "metadata": {},
   "source": [
    "#### 슈도 코드( Pseudo code )"
   ]
  },
  {
   "cell_type": "markdown",
   "metadata": {},
   "source": [
    "1. 현재 파라미터에서 손실 함수에 대한 미분값을 구한다.\n",
    "2. 미분값의 반대 방향으로 파라미터 값을 업데이트\n",
    "3. 미분값이 0이 될 때까지 1~2번을 에폭(epoch)만큼 반복"
   ]
  },
  {
   "cell_type": "markdown",
   "metadata": {},
   "source": [
    "L = sum( (yi -axi-b)^2 ) # 오차의 제곱 <br>\n",
    "x축이 모델의 파라미터 , y축이 L( 오차의 제곱 )이다."
   ]
  },
  {
   "cell_type": "markdown",
   "metadata": {},
   "source": [
    "가령 a0에서의 손실함수에 대한 순간 변화율을 구하였더니 3이 나왔다. (dL/da0 = 3) <br>\n",
    "그렇다면 , 손실 함수의 값을 낮추기 위해서는 <br>\n",
    "a0에서 Δa( = dL/dao )만큼을 역으로 빼준 새로운 a1값을 구한다. "
   ]
  },
  {
   "cell_type": "markdown",
   "metadata": {},
   "source": [
    "그 다음에 새로운 d1에서의 순간 변화율을 구한다. 그 값이 가령 1.5라고 하자.( dL/da1 = 1.5 ) <br>\n",
    "그러면 a2 = a1 - dl/da1 = a1 - 1.5를 구한다. <br>\n",
    "-> ,,, 이를 반복한다.\n"
   ]
  },
  {
   "cell_type": "markdown",
   "metadata": {},
   "source": [
    "에폭만큼 반복한다 : 에폭(epoch)는 `반복횟수에 대한 하이퍼 파라미터`이다. <br>\n",
    "a_epoch에 대한 dL/da_epoch = 0이 되는 a_epoch는 최종적으로 순간 변화율이 0이 되고 <br>\n",
    "이는 바로 a*에 거의 근접한다."
   ]
  }
 ],
 "metadata": {
  "kernelspec": {
   "display_name": "Python 3.9.7 ('vscode')",
   "language": "python",
   "name": "python3"
  },
  "language_info": {
   "name": "python",
   "version": "3.9.7"
  },
  "orig_nbformat": 4,
  "vscode": {
   "interpreter": {
    "hash": "2bfdf95f64224930efe8c4672c86eeee98528d89004da92f06cad876fd4ab1dd"
   }
  }
 },
 "nbformat": 4,
 "nbformat_minor": 2
}
