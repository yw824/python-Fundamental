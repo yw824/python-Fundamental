{
 "cells": [
  {
   "cell_type": "markdown",
   "metadata": {},
   "source": [
    "### 회귀 vs 분류"
   ]
  },
  {
   "cell_type": "markdown",
   "metadata": {},
   "source": [
    "#### 회귀( Regression ) : "
   ]
  },
  {
   "cell_type": "markdown",
   "metadata": {},
   "source": [
    "1. 입력값 : 연속값( 실수형 ), 이산값( 범주형 ) 등 모두 가능\n",
    "2. 출력값 : 연속값( 실수형 )\n",
    "3. 모델 형태 : 일반적인 함수 형태( eg. y= w1*x + w0 )"
   ]
  },
  {
   "cell_type": "markdown",
   "metadata": {},
   "source": [
    "#### 분류( Classification ) :"
   ]
  },
  {
   "cell_type": "markdown",
   "metadata": {},
   "source": [
    "1. 입력값 : 연속값( 실수형 ), 이산값( 범주형 ) 모두 가능\n",
    "2. 출력값 : 이산값( 범주형 )\n",
    "3. 모델 형태 : 이진 분류라면 시그모이드(sigmoid)함수, 다중 분류라면 소프트맥스(softmax)함수 꼭 포함 "
   ]
  },
  {
   "cell_type": "markdown",
   "metadata": {},
   "source": [
    "- 이진 분류 : 클래스의 개수가 2개인 상황\n",
    "- 다중 분류 : 클래스의 개수가 여러 개인 상황( 데이터의 종류가 여러 개인 상황 )"
   ]
  },
  {
   "cell_type": "markdown",
   "metadata": {},
   "source": [
    "## Notations - 용어"
   ]
  },
  {
   "cell_type": "markdown",
   "metadata": {},
   "source": [
    "### 데이터의 구성"
   ]
  },
  {
   "cell_type": "markdown",
   "metadata": {},
   "source": [
    "데이터는 피처(feature)와 라벨(label)로 구성 <br>\n",
    "이는 각각 독립변수와 종속변수로 부른다. <br>"
   ]
  },
  {
   "cell_type": "markdown",
   "metadata": {},
   "source": [
    "##### 라벨\n",
    "라벨은 y로 표기하며, 라벨의 유무로 지도학습, 비지도학습으로 분류한다. <br>\n",
    "( 예시 표에서 지병을 의미, 맞추고 싶어하는, 예측하는 대상 )"
   ]
  },
  {
   "cell_type": "markdown",
   "metadata": {},
   "source": [
    "가령 지병이 있다/없다의 두 항으로 분류하는 것을 -> 분류문제를 푼다고 한다."
   ]
  },
  {
   "cell_type": "markdown",
   "metadata": {},
   "source": [
    "지병 대신에 월급이라는 항목(실수 형태)을 구해야 한다면 , 이를 회귀문제를 푼다고 한다."
   ]
  },
  {
   "cell_type": "markdown",
   "metadata": {},
   "source": [
    "##### Feature( = attribute , 피처 )\n"
   ]
  },
  {
   "cell_type": "markdown",
   "metadata": {},
   "source": [
    "- 데이터 X의 특징, 혹은 항목을 의미\n",
    "- N : 데이터 샘플 갯수, D : 피처의 갯수\n",
    "    - ex ) 혈압, 몸무게, 나이\n",
    "    - -> X데이터 중 하나의 항 내에 혈압-몸무게-나이 3개의 데이터가 들어가 있다.   "
   ]
  },
  {
   "cell_type": "markdown",
   "metadata": {},
   "source": [
    "앞으로 feature을 N * D 형태의 행렬 형태로 제공될 것이다."
   ]
  },
  {
   "cell_type": "markdown",
   "metadata": {},
   "source": [
    "##### Parameter( = Weight , 파라미터, 가중치 )"
   ]
  },
  {
   "cell_type": "markdown",
   "metadata": {},
   "source": [
    "- 주어진 데이터(입력값) 말고, 모델이 가지고 있는 학습 가능한 파라미터( 가중치 )\n",
    "    - ex ) w0, w1, ,,, wd\n",
    "    - y = a*x + b 에서 a와 b의 값에 해당"
   ]
  },
  {
   "cell_type": "markdown",
   "metadata": {},
   "source": [
    "- 혈압, 몸무게, 나이 feature들이 각각 얼마만큼 영향을 미치는 지의 수치를 의미"
   ]
  },
  {
   "cell_type": "markdown",
   "metadata": {},
   "source": [
    "##### HyperParameter( 하이퍼 파라미터 )\n"
   ]
  },
  {
   "cell_type": "markdown",
   "metadata": {},
   "source": [
    "- 모델 학습에 있어, 인간이 정해야 하는 변수들\n",
    "- 학습률 , 배치 크기 등등"
   ]
  },
  {
   "cell_type": "markdown",
   "metadata": {},
   "source": [
    "인공지능은 완벽하지 않다.\n",
    "- 데이터와 데이터를 제공할 전문가(인간)이 필요하고,\n",
    "- 모델에 대한 정의를 해주어야 한다.\n",
    "- 그밖에도 인간이 정해줘야 하는 정의들이 때에 따라 필요하다. "
   ]
  },
  {
   "cell_type": "markdown",
   "metadata": {},
   "source": [
    "딥러닝 쪽에서는 AutoML 통해, 모델과 인간이 정해주는 파라미터들을 직접 설정하는 경우가 있다."
   ]
  },
  {
   "cell_type": "markdown",
   "metadata": {},
   "source": [
    "##### Input( 입력값 ) vs Output( 출력값 )\n"
   ]
  },
  {
   "cell_type": "markdown",
   "metadata": {},
   "source": [
    "- Input : 모델( 함수 )에 입력되는 값으로 데이터의 피처 부분( x로 표기 ) - 피처 부분만 들어온다.\n",
    "- Output : 모델로부터 출력되는 예측값( y'로 표기 )"
   ]
  },
  {
   "cell_type": "markdown",
   "metadata": {},
   "source": [
    "머신 러닝의 규칙 : 머신 러닝에게 정답지를 주면 안된다.\n",
    "- 학습 데이터와 평가 데이터를 따로 주기도 하고, \n",
    "- 전체 데이터를 받아서 20% 정도를 랜덤으로 뽑아 테스트 데이터로 쓰고, 나머지를 훈련 데이터로 사용한다."
   ]
  },
  {
   "cell_type": "markdown",
   "metadata": {},
   "source": [
    "- 이때 절대로 평가 데이터를 모델 학습에 사용하면 안된다.\n",
    "- 학습 데이터 중에서 y라벨을 모델에게 건네주면 안된다."
   ]
  },
  {
   "cell_type": "markdown",
   "metadata": {},
   "source": [
    "모델 함수가 feature 값을 대상으로 훈련하고, 이를 통해 나온 결과를 바탕으로 결과를 내면, <br>\n",
    "실제로 전문가들이 실제 결과와 비교하여 오류값의 결과( 정답률 )을 알려준다. ( 실제 결과와의 차이를 알려주지 않는다. )"
   ]
  },
  {
   "cell_type": "markdown",
   "metadata": {},
   "source": [
    "학습 모델의 y값은 에러를 알아내기 위해 사용한다."
   ]
  },
  {
   "cell_type": "markdown",
   "metadata": {},
   "source": [
    "##### 선형 모델 vs 비선형 모델"
   ]
  },
  {
   "cell_type": "markdown",
   "metadata": {},
   "source": [
    "- Linear Regression( 선형 회귀 ) : 파라미터를 선형 결합식으로 표현 가능한 모델\n",
    "    - ex ) y = w0 + w1x1 + w2x2 + ,,, wdxd\n",
    "    - ex ) y = w0 + w1x + w2x^2"
   ]
  },
  {
   "cell_type": "markdown",
   "metadata": {},
   "source": [
    "0차 이상의 다항식의 형태를 가지고 있는 형태\n",
    "- 원래는 1차식만 선형 형태라고 규정하지만 , \n",
    "- 가령 2차식은 나이의 항이 있는 데이터셋에 나이^2 feature을 하나 더 추가해준 꼴 \n",
    "- -> x^2가 붙든, x^100과 붙든, feature과 parameter가 선형적으로 결합되어 있는지의 여부"
   ]
  },
  {
   "cell_type": "markdown",
   "metadata": {},
   "source": [
    "- NonLinear Regression( 비선형 회귀 ) : 선형 결합식으로 표현 불가능한 모델\n",
    "    - ex ) log(y) = w0 + w1log(x)\n",
    "    - ex ) y = max(x, 0)"
   ]
  },
  {
   "cell_type": "markdown",
   "metadata": {},
   "source": [
    "- 앞으로 모집단에 대한 그룹화, 나누기를 위한 경계를 설정할 것인데, \n",
    "- 이 경계를 결정경계라고 한다\n",
    "- 이때 결정경계의 모습이 선형 모형인지 아닌지 ( 모양에 대한 판단 - 실제 1차함수인지 아닌지 ) 판단할 때에도\n",
    "- 선형/비선형 용어가 사용된다."
   ]
  },
  {
   "cell_type": "markdown",
   "metadata": {},
   "source": [
    "## Basic Math for ML"
   ]
  },
  {
   "cell_type": "markdown",
   "metadata": {},
   "source": [
    "#### 함수"
   ]
  },
  {
   "cell_type": "markdown",
   "metadata": {},
   "source": [
    "- 두 집합 사이의 관계 혹은 규칙\n",
    "- y = f(x) 의 식으로 표현 , 이 때는 x는 입력값 , y는 출력값"
   ]
  },
  {
   "cell_type": "markdown",
   "metadata": {},
   "source": [
    "- x : 입력값\n",
    "- y : 출력값( 예측값 ) <-> 실제값(label)과는 별개이다."
   ]
  },
  {
   "cell_type": "markdown",
   "metadata": {},
   "source": [
    "#### 1차 함수"
   ]
  },
  {
   "cell_type": "markdown",
   "metadata": {},
   "source": [
    "- y가 x에 대한 1차식으로 표현된 경우\n",
    "- y = ax + b ( a != 0 )\n",
    "- a를 기울기 , b를 절편이라고 표현"
   ]
  },
  {
   "cell_type": "markdown",
   "metadata": {},
   "source": [
    "#### 2차함수"
   ]
  },
  {
   "cell_type": "markdown",
   "metadata": {},
   "source": [
    "- y가 x에 대한 이차식으로 표현된 경우\n",
    "- y = a(x-p)^2 + q( a != 0 )"
   ]
  },
  {
   "cell_type": "markdown",
   "metadata": {},
   "source": [
    "####  순간 변화율"
   ]
  },
  {
   "cell_type": "markdown",
   "metadata": {},
   "source": [
    "- x의 값이 미세하게 변화했을 때 , y의 변화율\n",
    "- f'(x)\n",
    "- 어떤 x값(=a)에서의 그래프와 맞닿는 접선의 기울기"
   ]
  },
  {
   "cell_type": "markdown",
   "metadata": {},
   "source": [
    "#### 미분"
   ]
  },
  {
   "cell_type": "markdown",
   "metadata": {},
   "source": [
    "- 함수 f(x)를 미분한다는 것은 함수의 순간 변화율을 구한다는 것\n",
    "- f'(x) 또는 d/dx * f(x)로 표기\n",
    "- f(x) = ax -> f'(x) = a"
   ]
  },
  {
   "cell_type": "markdown",
   "metadata": {},
   "source": [
    "##### 함수의 최솟값"
   ]
  },
  {
   "cell_type": "markdown",
   "metadata": {},
   "source": [
    "- 함수의 최솟값에서의 미분값( 순간 변화율 )은 항상 0이다.\n",
    "- 이를 바탕으로 파라미터의 최적값을 구할 수 있다."
   ]
  },
  {
   "cell_type": "markdown",
   "metadata": {},
   "source": [
    "실제 결과인 y와 예측값인 y' 사이의 오류값(손실값)인 (y-y')을 최소화하는 위치를 찾는 것이 목표"
   ]
  },
  {
   "cell_type": "markdown",
   "metadata": {},
   "source": [
    "손실함수 = (y-y')^2 ( 최소값을 구하기 위해 ) <br>\n",
    "x축은 모델의 파라미터 , y축은 오차(손실)로 설정할 수 있다. <br>\n",
    "2차함수에서 순간 변화율이 0인 곳을 구하면 , 그곳이 최소값이다. <br>\n",
    "-> 그곳이 모델 파라미터의 최적값이다."
   ]
  },
  {
   "cell_type": "markdown",
   "metadata": {},
   "source": [
    "#### 지수함수"
   ]
  },
  {
   "cell_type": "markdown",
   "metadata": {},
   "source": [
    "- y = a^x( a != 1 , a > 0 )\n",
    "- a를 밑, x를 지수라고 부른다.\n",
    "- 한 쪽은 0으로 수렴 , 다른 쪽은 무한대로 발산"
   ]
  },
  {
   "cell_type": "markdown",
   "metadata": {},
   "source": [
    "#### 자연상수"
   ]
  },
  {
   "cell_type": "markdown",
   "metadata": {},
   "source": [
    "- e = lim(n->무한대)(1+1/n)^n\n",
    "- `자연 로그의 밑` 또는 `오일러의 수`라고 부른다.\n",
    "- `파이`처럼 중요하게 사용되는 무리수\n"
   ]
  },
  {
   "cell_type": "markdown",
   "metadata": {},
   "source": [
    "- `100%의 성장률을 가지고 1회 연속 성장할 때 가질 수 있는 최대 성장량`\n",
    "    - 나는 1원을 가지고 있다.\n",
    "    - 가령 1년 이후에 1원을 주겠다고 한다. 그런데\n",
    "    - 이를 절반으로 나눠서 0.5원씩 또 나눠가질 수 있다. \n",
    "    - 이를 절반으로 나눠서 0.25원씩 또 나눠가질 수 있다.\n",
    "    그렇다면 , 이를 갖기 위해 얼마나 분기해야 할까 ? -> 무한대로 분기해야 많아진다\n",
    "    - 그런데, 아무리 무한으로 나눠도 최대 2.718,,,까지로 수렴한다.\n",
    "    - 이 수가 바로 자연상수이다."
   ]
  },
  {
   "cell_type": "markdown",
   "metadata": {},
   "source": [
    "(e^x)' = e^x"
   ]
  },
  {
   "cell_type": "markdown",
   "metadata": {},
   "source": [
    "#### 시그모이드 함수"
   ]
  },
  {
   "cell_type": "markdown",
   "metadata": {},
   "source": [
    "- 이진 분류를 위한 비선형 함수\n",
    "- y = 1/( 1+e^(-x) )\n",
    "- 함수의 출력값이 항싱 0이상 1이하여야 하며, 중앙 출력값은 0.5이다."
   ]
  },
  {
   "cell_type": "markdown",
   "metadata": {},
   "source": [
    "예측값이 0.5 이상이면 1이라는 클래스로 분류하고 , <br>\n",
    "예측값이 0.5 이하이면 0이라는 클래스로 분류한다 . <br>\n",
    "1 클래스와 0 클래스의 정체는 , 하나의 집단을 0이라는 값으로 , 다른 집단을 1이라는 값으로 <br>\n",
    "전문가가 미리 변환하고 학습에 사용한다."
   ]
  },
  {
   "cell_type": "markdown",
   "metadata": {},
   "source": [
    "#### 소프트맥스 함수"
   ]
  },
  {
   "cell_type": "markdown",
   "metadata": {},
   "source": [
    "- 다중 분류를 위한 비선형 함수"
   ]
  },
  {
   "cell_type": "markdown",
   "metadata": {},
   "source": [
    "yi = e^xi / ( sum(e^xk) ( k = 1 ,,, n ) )"
   ]
  },
  {
   "cell_type": "markdown",
   "metadata": {},
   "source": [
    "확률이라는 것은 총합은 1이 되어야 한다는 확률의 성질을 사용한다. <br>\n",
    "다중 클래스의 값의 총합을 1로 맞추기 위해 소프트맥스 함수를 사용한다."
   ]
  },
  {
   "cell_type": "markdown",
   "metadata": {},
   "source": [
    "#### 로그 함수"
   ]
  },
  {
   "cell_type": "markdown",
   "metadata": {},
   "source": [
    "- y = loga(x)\n",
    "- 지수 함수와 역함수 관계\n",
    "- 로그 함수의 밑이 e일 때 , y = ln(x) ( `자연로그` )\n",
    "- 보통 로그의 밑이 명시되어 있지 않으면 , 자연로그이다."
   ]
  },
  {
   "cell_type": "markdown",
   "metadata": {},
   "source": [
    "## Linear Regression"
   ]
  },
  {
   "cell_type": "markdown",
   "metadata": {},
   "source": [
    "### 단순 선형 회귀( Simple Linear Regression )"
   ]
  },
  {
   "cell_type": "markdown",
   "metadata": {},
   "source": [
    "- `피처의 종류가 한 개`인 데이터에 대한 회귀 모델\n",
    "- y = w0 + w1x"
   ]
  },
  {
   "cell_type": "markdown",
   "metadata": {},
   "source": [
    "### 다중 선형 회귀( Multiple Linear Regression )\n",
    "- `피처의 종류가 여러 개`인 데이터에 대한 회귀 모델\n",
    "- y = w0 + w1x1 + w2x2 + w3x3 + ,,, + wdxd"
   ]
  },
  {
   "cell_type": "markdown",
   "metadata": {},
   "source": [
    "### 다항 회귀( Polynomial Regression )"
   ]
  },
  {
   "cell_type": "markdown",
   "metadata": {},
   "source": [
    "- 독립 변수( 피처 )의 `차수를 높인` 회귀 모델\n",
    "- y = w0 + w1x + w2x^2 + w3x^3 + ,,, + wmx^m"
   ]
  },
  {
   "cell_type": "markdown",
   "metadata": {},
   "source": [
    "### How to find Optimal Parameters?"
   ]
  },
  {
   "cell_type": "markdown",
   "metadata": {},
   "source": [
    "( Remind ) Parameter ( = weight , 파라미터 , 가중치 )\n",
    "- 주어진 데이터( 입력값 ) 말고, 모델이 가지고 있는 학습 가능한( learnable ) 파라미터\n",
    "- ex ) w0 , w1 , ,,, wd"
   ]
  },
  {
   "cell_type": "markdown",
   "metadata": {},
   "source": [
    "`Optimal( 최적의 )` 라는 뜻은 데이터를 가장 잘 표현한다는 말과 동치 <br>\n",
    "-> 모델 예측값( y' ) 과 실제값( y )의 차이( `= 손실값` )가 가장 적은 모델 <br>\n",
    "-> 손실 함수값을 최소로 만드는 모델 파라미터\n"
   ]
  },
  {
   "cell_type": "markdown",
   "metadata": {},
   "source": []
  }
 ],
 "metadata": {
  "language_info": {
   "name": "python"
  },
  "orig_nbformat": 4
 },
 "nbformat": 4,
 "nbformat_minor": 2
}
