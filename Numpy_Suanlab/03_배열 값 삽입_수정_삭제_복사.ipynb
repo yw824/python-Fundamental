{
 "cells": [
  {
   "cell_type": "code",
   "execution_count": 1,
   "metadata": {},
   "outputs": [],
   "source": [
    "import numpy as np\n",
    "a1 = np.array([1, 2, 3, 4, 5])\n",
    "a2 = np.array([ [1, 2, 3], [4, 5, 6], [7, 8, 9]])\n",
    "a3 = np.array([[[1, 2, 3], [4, 5, 6], [7, 8, 9]], [[1, 2, 3], [4, 5, 6], [7, 8, 9]], [[1, 2, 3], [4, 5, 6], [7, 8, 9]]])"
   ]
  },
  {
   "cell_type": "markdown",
   "metadata": {},
   "source": [
    "## 배열 값 삽입/수정/삭제/복사"
   ]
  },
  {
   "cell_type": "markdown",
   "metadata": {},
   "source": [
    "### 배열 값 삽입"
   ]
  },
  {
   "cell_type": "markdown",
   "metadata": {},
   "source": [
    "- insert() : 배열의 특정 위치에 값 삽입\n",
    "- axis를 지정하지 않으면 1차원 배열로 변환\n",
    "- 추가할 방향을 axis로 지정\n",
    "- 원본 배열 변경없이 새로운 배열 반환"
   ]
  },
  {
   "cell_type": "markdown",
   "metadata": {},
   "source": [
    "배열의 값을 삽입하는 함수는 사실, 원본 배열의 특정 위치에 값을 삽입한 새로운 배열을 <br>\n",
    "반환하는 함수이다."
   ]
  },
  {
   "cell_type": "code",
   "execution_count": 7,
   "metadata": {},
   "outputs": [
    {
     "name": "stdout",
     "output_type": "stream",
     "text": [
      "[1 2 3 4 5]\n"
     ]
    },
    {
     "data": {
      "text/plain": [
       "array([10,  1,  2,  3,  4,  5])"
      ]
     },
     "execution_count": 7,
     "metadata": {},
     "output_type": "execute_result"
    }
   ],
   "source": [
    "print(a1)\n",
    "b1 = np.insert(a1, 0, 10)\n",
    "# 원본배열 - 행의 수 - 열의 수 - 추가할 값 순서로 입력\n",
    "b1\n",
    "# 특정 위치에 값을 추가하면, 그 위치부터 기존에 있던 항들은 하나씩 뒤로 밀린다. "
   ]
  },
  {
   "cell_type": "code",
   "execution_count": 8,
   "metadata": {},
   "outputs": [
    {
     "data": {
      "text/plain": [
       "array([ 1,  2, 10,  3,  4,  5])"
      ]
     },
     "execution_count": 8,
     "metadata": {},
     "output_type": "execute_result"
    }
   ],
   "source": [
    "c1 = np.insert(a1, 2, 10)\n",
    "c1"
   ]
  },
  {
   "cell_type": "code",
   "execution_count": 9,
   "metadata": {},
   "outputs": [
    {
     "name": "stdout",
     "output_type": "stream",
     "text": [
      "[[1 2 3]\n",
      " [4 5 6]\n",
      " [7 8 9]]\n",
      "[[ 1  2  3]\n",
      " [10 10 10]\n",
      " [ 4  5  6]\n",
      " [ 7  8  9]]\n"
     ]
    }
   ],
   "source": [
    "print(a2)\n",
    "b2 = np.insert(a2, 1, 10, axis=0)\n",
    "print(b2)\n",
    "# 모든 열의 1번째 행에 10을 추가\n"
   ]
  },
  {
   "cell_type": "code",
   "execution_count": 10,
   "metadata": {},
   "outputs": [
    {
     "name": "stdout",
     "output_type": "stream",
     "text": [
      "[[ 1 10  2  3]\n",
      " [ 4 10  5  6]\n",
      " [ 7 10  8  9]]\n"
     ]
    }
   ],
   "source": [
    "c2 = np.insert(a2, 1, 10, axis=1)\n",
    "print(c2)\n",
    "# 모든 행의 1번째 열에 10을 추가"
   ]
  },
  {
   "cell_type": "markdown",
   "metadata": {},
   "source": [
    "### 배열 수정"
   ]
  },
  {
   "cell_type": "markdown",
   "metadata": {},
   "source": [
    "- 배열의 인덱싱으로 접근하여 값 수정"
   ]
  },
  {
   "cell_type": "code",
   "execution_count": 11,
   "metadata": {},
   "outputs": [
    {
     "name": "stdout",
     "output_type": "stream",
     "text": [
      "[1 2 3 4 5]\n",
      "[1 2 3 4 5]\n"
     ]
    }
   ],
   "source": [
    "print(a1)\n",
    "a1[0] = 4\n",
    "a1[1] = 5\n",
    "a1[2] = 6\n",
    "print(a1)"
   ]
  },
  {
   "cell_type": "code",
   "execution_count": 15,
   "metadata": {},
   "outputs": [
    {
     "name": "stdout",
     "output_type": "stream",
     "text": [
      "[9 0 3 0 0]\n",
      "[9 0 3 0 0]\n",
      "[9 4 3 4 4]\n"
     ]
    }
   ],
   "source": [
    "a1[:1] = 9\n",
    "print(a1)\n",
    "\n",
    "i = np.array([1, 3, 4])\n",
    "a1[ i ] = 0 # fancy indexing\n",
    "print(a1)\n",
    "a1[ i ] += 4\n",
    "print(a1)"
   ]
  },
  {
   "cell_type": "code",
   "execution_count": 16,
   "metadata": {},
   "outputs": [
    {
     "name": "stdout",
     "output_type": "stream",
     "text": [
      "[[1 2 3]\n",
      " [4 5 6]\n",
      " [7 8 9]]\n",
      "[[1 1 1]\n",
      " [4 2 6]\n",
      " [7 8 3]]\n"
     ]
    }
   ],
   "source": [
    "print(a2)\n",
    "a2[0, 0] = 1\n",
    "a2[1, 1] = 2\n",
    "a2[2, 2] = 3\n",
    "a2[0] = 1 # 0번째 행을 전부 1로 변경\n",
    "print(a2)"
   ]
  },
  {
   "cell_type": "code",
   "execution_count": 17,
   "metadata": {},
   "outputs": [
    {
     "name": "stdout",
     "output_type": "stream",
     "text": [
      "[[1 1 1]\n",
      " [9 9 6]\n",
      " [9 9 3]]\n",
      "[[1 0 1]\n",
      " [9 9 0]\n",
      " [9 9 3]]\n"
     ]
    }
   ],
   "source": [
    "a2[1:, :2] = 9\n",
    "print(a2)\n",
    "row = np.array([0, 1])\n",
    "col = np.array([1, 2])\n",
    "a2[row, col] = 0\n",
    "print(a2)"
   ]
  },
  {
   "cell_type": "markdown",
   "metadata": {},
   "source": [
    "### 배열 값 삭제"
   ]
  },
  {
   "cell_type": "markdown",
   "metadata": {},
   "source": [
    "- delete() : 배열의 특정 위치에 값 삭제\n",
    "- axis를 저장하지 않으면 1차원 배열로 반환\n",
    "- 삭제할 방향을 axis로 지정\n",
    "- 원본 배열 변경없이 새로운 배열 반환"
   ]
  },
  {
   "cell_type": "code",
   "execution_count": 18,
   "metadata": {},
   "outputs": [
    {
     "name": "stdout",
     "output_type": "stream",
     "text": [
      "[9 4 3 4 4]\n",
      "[9 3 4 4]\n"
     ]
    }
   ],
   "source": [
    "print(a1)\n",
    "b1 = np.delete(a1, 1) # 1번째 인덱스 값을 삭제하고, 뒤에 있던 값을 당겨 온다.\n",
    "print(b1)\n",
    "print(a1) # 원본 값은 바뀌지 않았다."
   ]
  },
  {
   "cell_type": "code",
   "execution_count": 19,
   "metadata": {},
   "outputs": [
    {
     "name": "stdout",
     "output_type": "stream",
     "text": [
      "[[1 0 1]\n",
      " [9 9 0]\n",
      " [9 9 3]]\n",
      "[[1 0 1]\n",
      " [9 9 3]]\n"
     ]
    }
   ],
   "source": [
    "print(a2)\n",
    "b2 = np.delete(a2, 1, axis=0) # 1번째 행(axis=0)을 삭제한다. 그 다음 항부터는 당겨온다. \n",
    "print(b2)"
   ]
  },
  {
   "cell_type": "code",
   "execution_count": 20,
   "metadata": {},
   "outputs": [
    {
     "name": "stdout",
     "output_type": "stream",
     "text": [
      "[[1 1]\n",
      " [9 0]\n",
      " [9 3]]\n"
     ]
    }
   ],
   "source": [
    "c2 = np.delete(a2, 1, axis=1) # 1번째 열(axis = 1)을 삭제한다. 그 다음 항부터는 당겨온다.\n",
    "print(c2)"
   ]
  },
  {
   "cell_type": "markdown",
   "metadata": {},
   "source": [
    "### 배열 복사"
   ]
  },
  {
   "cell_type": "markdown",
   "metadata": {},
   "source": [
    "- 리스트 자료형과 달리 배열의 슬라이스는 복사본이 아니다."
   ]
  },
  {
   "cell_type": "code",
   "execution_count": 21,
   "metadata": {},
   "outputs": [
    {
     "name": "stdout",
     "output_type": "stream",
     "text": [
      "[[1 0 1]\n",
      " [9 9 0]\n",
      " [9 9 3]]\n",
      "[[1 0]\n",
      " [9 9]]\n",
      "[[1 0]\n",
      " [9 9]]\n",
      "[[1 0]\n",
      " [9 0]]\n",
      "[[1 0 1]\n",
      " [9 0 0]\n",
      " [9 9 3]]\n"
     ]
    }
   ],
   "source": [
    "print(a2)\n",
    "print(a2[:2, :2])\n",
    "a2_sub = a2[:2, :2]\n",
    "print(a2_sub)      # 원본에서 0번째~1번째 행의 0번째~1번째 열의 값을 슬라이싱하여 가져왔다.\n",
    "a2_sub[:, 1] = 0   # a2_sub의 전체 1번째 열의 값을 0으로 수정\n",
    "print(a2_sub)      # 수정된 값 출력\n",
    "print(a2)          # 원본 출력 "
   ]
  },
  {
   "cell_type": "markdown",
   "metadata": {},
   "source": [
    "맨 처음 출력한 원본과, 작업 후에 원본의 출력값이 다르다. <br>\n",
    "복사할 때는 레퍼런스 단위로 접근한다. 따라서 해당 주소의 값을 변경하면 정말로 원본도 바뀐다.\n",
    "내가 복사를 하고 싶다면 -> 명시적으로 copy()라는 함수를 사용해야 한다."
   ]
  },
  {
   "cell_type": "markdown",
   "metadata": {},
   "source": [
    "- copy() : 배열이나 하위 배열 내의 값을 명시적으로 복사"
   ]
  },
  {
   "cell_type": "code",
   "execution_count": 23,
   "metadata": {},
   "outputs": [
    {
     "name": "stdout",
     "output_type": "stream",
     "text": [
      "[[1 0 1]\n",
      " [9 0 0]\n",
      " [9 9 3]]\n",
      "[[1 0]\n",
      " [9 0]]\n",
      "[[1 1]\n",
      " [9 1]]\n",
      "[[1 0 1]\n",
      " [9 0 0]\n",
      " [9 9 3]]\n"
     ]
    }
   ],
   "source": [
    "print(a2)\n",
    "a2_sub_copy = a2[:2, :2].copy()\n",
    "print(a2_sub_copy)\n",
    "a2_sub_copy[:, 1] = 1\n",
    "print(a2_sub_copy)\n",
    "print(a2)\n"
   ]
  },
  {
   "cell_type": "markdown",
   "metadata": {},
   "source": [
    "배열의 값을 아예 새로운 메모리에 할당하였기 때문에 , <br>\n",
    "새로운 값을 수정하더라도, 원본의 메모리에 담긴 값에 영향을 미치지 않는다."
   ]
  }
 ],
 "metadata": {
  "kernelspec": {
   "display_name": "Python 3.9.7 ('vscode')",
   "language": "python",
   "name": "python3"
  },
  "language_info": {
   "codemirror_mode": {
    "name": "ipython",
    "version": 3
   },
   "file_extension": ".py",
   "mimetype": "text/x-python",
   "name": "python",
   "nbconvert_exporter": "python",
   "pygments_lexer": "ipython3",
   "version": "3.9.7"
  },
  "orig_nbformat": 4,
  "vscode": {
   "interpreter": {
    "hash": "2bfdf95f64224930efe8c4672c86eeee98528d89004da92f06cad876fd4ab1dd"
   }
  }
 },
 "nbformat": 4,
 "nbformat_minor": 2
}
