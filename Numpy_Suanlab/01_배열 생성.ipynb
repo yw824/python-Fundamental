{
 "cells": [
  {
   "cell_type": "markdown",
   "metadata": {},
   "source": [
    "### 넘파이 import 하고 , 버전 알아보기"
   ]
  },
  {
   "cell_type": "code",
   "execution_count": 1,
   "metadata": {},
   "outputs": [
    {
     "data": {
      "text/plain": [
       "'1.22.2'"
      ]
     },
     "execution_count": 1,
     "metadata": {},
     "output_type": "execute_result"
    }
   ],
   "source": [
    "import numpy as np\n",
    "np.__version__"
   ]
  },
  {
   "cell_type": "markdown",
   "metadata": {},
   "source": [
    "### 1차원 , 2차원 , 3차원 리스트로 배열 만들기"
   ]
  },
  {
   "cell_type": "code",
   "execution_count": 6,
   "metadata": {},
   "outputs": [
    {
     "name": "stdout",
     "output_type": "stream",
     "text": [
      "[1 2 3 4 5]\n",
      "<class 'numpy.ndarray'>\n",
      "(5,)\n"
     ]
    }
   ],
   "source": [
    "# 1차원 - 한 차원당 하나의 리스트를 넣는다.\n",
    "a1 = np.array([1, 2, 3, 4, 5])\n",
    "print(a1)\n",
    "print(type(a1))\n",
    "print(a1.shape)\n"
   ]
  },
  {
   "cell_type": "markdown",
   "metadata": {},
   "source": [
    "a1의 자료형은 <class 'numpy.ndarray'>를 알 수 있고 , \n",
    "a1의 형태는 (5,) , 즉 원소 5개를 가진 1차원 배열임을 알 수 있다."
   ]
  },
  {
   "cell_type": "code",
   "execution_count": 7,
   "metadata": {},
   "outputs": [
    {
     "name": "stdout",
     "output_type": "stream",
     "text": [
      "[1 2 3 4 5]\n",
      "[6 2 3 4 5]\n"
     ]
    }
   ],
   "source": [
    "print(a1[0:5])\n",
    "a1[0] = 4\n",
    "a1[0] = 5\n",
    "a1[0] = 6\n",
    "print(a1)"
   ]
  },
  {
   "cell_type": "markdown",
   "metadata": {},
   "source": [
    "넘파이 배열임에도 불구하고, 파이썬 리스트처럼 배열의 원소를 수정할 수 있다.\n",
    "2차원 배열을 생성해 보자. "
   ]
  },
  {
   "cell_type": "code",
   "execution_count": 9,
   "metadata": {},
   "outputs": [
    {
     "name": "stdout",
     "output_type": "stream",
     "text": [
      "[[1 2 3]\n",
      " [4 5 6]\n",
      " [7 8 9]]\n",
      "(3, 3)\n"
     ]
    }
   ],
   "source": [
    "# 2차원 배열을 생성하려면, 큰 배열 안에 1차원 리스트 여러 개를 넣어 생성한다.\n",
    "a2 = np.array([ [1, 2, 3], [4, 5, 6], [7, 8, 9]])\n",
    "print(a2)\n",
    "print(a2.shape)"
   ]
  },
  {
   "cell_type": "code",
   "execution_count": 10,
   "metadata": {},
   "outputs": [
    {
     "name": "stdout",
     "output_type": "stream",
     "text": [
      "1 5 9\n"
     ]
    }
   ],
   "source": [
    "print(a2[0, 0], a2[1, 1], a2[2, 2])"
   ]
  },
  {
   "cell_type": "markdown",
   "metadata": {},
   "source": [
    "우리가 사용하는 실제 2차원 행렬처럼 , 행-열 단위로 인덱스 접근하여 조회 가능하다.\n",
    "3차원 배열을 만들어 보자."
   ]
  },
  {
   "cell_type": "code",
   "execution_count": 14,
   "metadata": {},
   "outputs": [
    {
     "name": "stdout",
     "output_type": "stream",
     "text": [
      "[[[1 2 3]\n",
      "  [4 5 6]\n",
      "  [7 8 9]]\n",
      "\n",
      " [[1 2 3]\n",
      "  [4 5 6]\n",
      "  [7 8 9]]\n",
      "\n",
      " [[1 2 3]\n",
      "  [4 5 6]\n",
      "  [7 8 9]]]\n",
      "(3, 3, 3)\n"
     ]
    }
   ],
   "source": [
    "a3 = np.array([[[1, 2, 3], [4, 5, 6], [7, 8, 9]], [[1, 2, 3], [4, 5, 6], [7, 8, 9]], [[1, 2, 3], [4, 5, 6], [7, 8, 9]]])\n",
    "print(a3)\n",
    "print(a3.shape)"
   ]
  },
  {
   "cell_type": "markdown",
   "metadata": {},
   "source": [
    "### 배열 생성 및 초기화"
   ]
  },
  {
   "cell_type": "markdown",
   "metadata": {},
   "source": [
    "우리가 일반적인 행렬 생성처럼 리스트에 값을 담고, 이를 배열처럼 변화시킬 수도 있지만 , <br>\n",
    "넘파이 함수를 사용하여 값을 초기화할 수도 있다."
   ]
  },
  {
   "cell_type": "markdown",
   "metadata": {},
   "source": [
    "- zeros : 모든 요소를 0으로 초기화\n",
    "- ones : 모든 요소를 1로 초기화"
   ]
  },
  {
   "cell_type": "code",
   "execution_count": 16,
   "metadata": {},
   "outputs": [
    {
     "data": {
      "text/plain": [
       "array([1., 1., 1., 1., 1., 1., 1., 1., 1., 1.])"
      ]
     },
     "execution_count": 16,
     "metadata": {},
     "output_type": "execute_result"
    }
   ],
   "source": [
    "np.zeros(10)\n",
    "np.ones(10)"
   ]
  },
  {
   "cell_type": "markdown",
   "metadata": {},
   "source": [
    "- full() : 모든 요소를 지정한 값으로 초기화\n"
   ]
  },
  {
   "cell_type": "code",
   "execution_count": 18,
   "metadata": {},
   "outputs": [
    {
     "data": {
      "text/plain": [
       "array([[1.23, 1.23, 1.23],\n",
       "       [1.23, 1.23, 1.23],\n",
       "       [1.23, 1.23, 1.23]])"
      ]
     },
     "execution_count": 18,
     "metadata": {},
     "output_type": "execute_result"
    }
   ],
   "source": [
    "np.full((3,3), 1.23)\n",
    "# 행렬의 형식은 하나의 튜플 안에 넣어야 하고, 값은 튜플 밖에 추가적인 파라미터로 넣어야 한다."
   ]
  },
  {
   "cell_type": "markdown",
   "metadata": {},
   "source": [
    "- eye : 단위행렬을 만들어 준다. 단위행렬이기 때문에 정사각행렬 -> 한 변의 길이만 정해주면 된다.\n",
    "- tri : 삼각행렬을 만들어 준다. 삼각행렬이기 때문에 정사각행렬 -> 한 변의 길이만 정해주면 된다."
   ]
  },
  {
   "cell_type": "code",
   "execution_count": 20,
   "metadata": {},
   "outputs": [
    {
     "data": {
      "text/plain": [
       "array([[1., 0., 0.],\n",
       "       [0., 1., 0.],\n",
       "       [0., 0., 1.]])"
      ]
     },
     "execution_count": 20,
     "metadata": {},
     "output_type": "execute_result"
    }
   ],
   "source": [
    "np.eye(3)\n"
   ]
  },
  {
   "cell_type": "code",
   "execution_count": 21,
   "metadata": {},
   "outputs": [
    {
     "data": {
      "text/plain": [
       "array([[1., 0., 0.],\n",
       "       [1., 1., 0.],\n",
       "       [1., 1., 1.]])"
      ]
     },
     "execution_count": 21,
     "metadata": {},
     "output_type": "execute_result"
    }
   ],
   "source": [
    "np.tri(3)"
   ]
  },
  {
   "cell_type": "markdown",
   "metadata": {},
   "source": [
    "- empty() : 초기화되지 않은 행렬 생성\n",
    "    - 초기화가 없어서 배열 생성비용 저렴하고 빠르다.\n",
    "    - 초기화되지 않아서 기존 메모리 위치에 존재하는 값이 있다. -> 매번 실행할 때마다 다르다."
   ]
  },
  {
   "cell_type": "code",
   "execution_count": 22,
   "metadata": {},
   "outputs": [
    {
     "data": {
      "text/plain": [
       "array([1., 1., 1., 1., 1., 1., 1., 1., 1., 1.])"
      ]
     },
     "execution_count": 22,
     "metadata": {},
     "output_type": "execute_result"
    }
   ],
   "source": [
    "np.empty(10)"
   ]
  },
  {
   "cell_type": "markdown",
   "metadata": {},
   "source": [
    "- _like() : 지정된 배열과 shape가 같은 행렬 작성\n",
    "    - np.zeros_like()\n",
    "    - np.ones_like()\n",
    "    - np.full_like()\n",
    "    - np.empty_like()\n",
    "    -> 파라미터에 이전에 배열로 생성한 변수명을 넣으면, 해당 변수와 동일한 형태의 행렬이 작성된다."
   ]
  },
  {
   "cell_type": "code",
   "execution_count": 24,
   "metadata": {},
   "outputs": [
    {
     "name": "stdout",
     "output_type": "stream",
     "text": [
      "[6 2 3 4 5]\n"
     ]
    },
    {
     "data": {
      "text/plain": [
       "array([0, 0, 0, 0, 0])"
      ]
     },
     "execution_count": 24,
     "metadata": {},
     "output_type": "execute_result"
    }
   ],
   "source": [
    "print(a1)\n",
    "np.zeros_like(a1) # a1과 형태가 같은 0으로 초기화된 배열 생성"
   ]
  },
  {
   "cell_type": "code",
   "execution_count": 25,
   "metadata": {},
   "outputs": [
    {
     "name": "stdout",
     "output_type": "stream",
     "text": [
      "[[1 2 3]\n",
      " [4 5 6]\n",
      " [7 8 9]]\n"
     ]
    },
    {
     "data": {
      "text/plain": [
       "array([[0, 0, 0],\n",
       "       [0, 0, 0],\n",
       "       [0, 0, 0]])"
      ]
     },
     "execution_count": 25,
     "metadata": {},
     "output_type": "execute_result"
    }
   ],
   "source": [
    "print(a2)\n",
    "np.zeros_like(a2)"
   ]
  },
  {
   "cell_type": "code",
   "execution_count": 26,
   "metadata": {},
   "outputs": [
    {
     "name": "stdout",
     "output_type": "stream",
     "text": [
      "[[[1 2 3]\n",
      "  [4 5 6]\n",
      "  [7 8 9]]\n",
      "\n",
      " [[1 2 3]\n",
      "  [4 5 6]\n",
      "  [7 8 9]]\n",
      "\n",
      " [[1 2 3]\n",
      "  [4 5 6]\n",
      "  [7 8 9]]]\n"
     ]
    },
    {
     "data": {
      "text/plain": [
       "array([[[10, 10, 10],\n",
       "        [10, 10, 10],\n",
       "        [10, 10, 10]],\n",
       "\n",
       "       [[10, 10, 10],\n",
       "        [10, 10, 10],\n",
       "        [10, 10, 10]],\n",
       "\n",
       "       [[10, 10, 10],\n",
       "        [10, 10, 10],\n",
       "        [10, 10, 10]]])"
      ]
     },
     "execution_count": 26,
     "metadata": {},
     "output_type": "execute_result"
    }
   ],
   "source": [
    "print(a3)\n",
    "np.full_like(a3, 10)"
   ]
  },
  {
   "cell_type": "markdown",
   "metadata": {},
   "source": [
    "### 생성한 값으로 배열 생성 "
   ]
  },
  {
   "cell_type": "markdown",
   "metadata": {},
   "source": [
    "- arange() : 정수 범위로 배열 생성"
   ]
  },
  {
   "cell_type": "code",
   "execution_count": 27,
   "metadata": {},
   "outputs": [
    {
     "data": {
      "text/plain": [
       "array([ 0,  2,  4,  6,  8, 10, 12, 14, 16, 18, 20, 22, 24, 26, 28])"
      ]
     },
     "execution_count": 27,
     "metadata": {},
     "output_type": "execute_result"
    }
   ],
   "source": [
    "np.arange(0, 30, 2) # 0부터 30 전까지 step을 2씩 건너뛰며 생성"
   ]
  },
  {
   "cell_type": "markdown",
   "metadata": {},
   "source": [
    "- np.linspace() : 범위 내에서 균등간격으로 로그 스케일로 배열 생성"
   ]
  },
  {
   "cell_type": "code",
   "execution_count": 28,
   "metadata": {},
   "outputs": [
    {
     "data": {
      "text/plain": [
       "array([0.  , 0.25, 0.5 , 0.75, 1.  ])"
      ]
     },
     "execution_count": 28,
     "metadata": {},
     "output_type": "execute_result"
    }
   ],
   "source": [
    "np.linspace(0, 1, 5 ) # 0부터 1까지의 범위를 균등한 5개의 값으로 나눈다."
   ]
  },
  {
   "cell_type": "markdown",
   "metadata": {},
   "source": [
    "- np.logspace() : 범위 내에서 균등간격으로 로그 스케일로 배열 생성"
   ]
  },
  {
   "cell_type": "code",
   "execution_count": 30,
   "metadata": {},
   "outputs": [
    {
     "data": {
      "text/plain": [
       "array([ 1.25892541,  1.40400425,  1.565802  ,  1.74624535,  1.94748304,\n",
       "        2.1719114 ,  2.42220294,  2.70133812,  3.0126409 ,  3.35981829,\n",
       "        3.74700446,  4.17881006,  4.66037703,  5.19743987,  5.79639395,\n",
       "        6.46437163,  7.2093272 ,  8.04013161,  8.9666781 , 10.        ])"
      ]
     },
     "execution_count": 30,
     "metadata": {},
     "output_type": "execute_result"
    }
   ],
   "source": [
    "np.logspace(0.1, 1, 20)"
   ]
  },
  {
   "cell_type": "markdown",
   "metadata": {},
   "source": [
    "### 랜덤값으로 배열 생성"
   ]
  },
  {
   "cell_type": "markdown",
   "metadata": {},
   "source": [
    "- seed :            난수 발생을 위한 시드(seed) 설정\n",
    "- permutatioin :    순서를 임의로 바꾸거나 임의의 순열 반환\n",
    "- shuffle :         리스트나 배열의 순서를 뒤섞음\n",
    "- random :          랜덤한 수의 배열 생성\n",
    "- rand :            균등분포에서 표본 추출\n",
    "- randint :         주어진 최소/최대 범위의 난수 추출\n",
    "- randn :           표준편차가 1, 평균값 0인 정규분포의 표본 추출\n",
    "- binomial :        이항분포에서 표본 추출\n",
    "- beta :            정규분포( 가우시안 )에서 표본 추출\n",
    "- chisquare :       카이제곱분포에서 표본 추출\n",
    "- gamma :           감마분포에서 표본 추출\n",
    "- uniform :         균등( 0 , 1 )에서 표본 추출"
   ]
  },
  {
   "cell_type": "markdown",
   "metadata": {},
   "source": [
    "- random.random() : 랜덤한 수의 배열 생성"
   ]
  },
  {
   "cell_type": "code",
   "execution_count": 31,
   "metadata": {},
   "outputs": [
    {
     "data": {
      "text/plain": [
       "array([[0.56090496, 0.09345818, 0.7241498 ],\n",
       "       [0.4682771 , 0.05661521, 0.25084733],\n",
       "       [0.5115428 , 0.17981668, 0.30061059]])"
      ]
     },
     "execution_count": 31,
     "metadata": {},
     "output_type": "execute_result"
    }
   ],
   "source": [
    "np.random.random((3, 3)) # 값은 랜덤이기 때문에 shape만 정해주면 된다."
   ]
  },
  {
   "cell_type": "markdown",
   "metadata": {},
   "source": [
    "- random.randint() : 일정 구간의 랜덤 정수의 배열 생성"
   ]
  },
  {
   "cell_type": "code",
   "execution_count": 34,
   "metadata": {},
   "outputs": [
    {
     "data": {
      "text/plain": [
       "array([[0, 4, 7],\n",
       "       [6, 0, 5],\n",
       "       [2, 2, 5]])"
      ]
     },
     "execution_count": 34,
     "metadata": {},
     "output_type": "execute_result"
    }
   ],
   "source": [
    "np.random.randint(0, 10, (3,3)) \n",
    "# 값의 시작점 - 도착점 - 행렬의 형태 순으로 인자 설정"
   ]
  },
  {
   "cell_type": "markdown",
   "metadata": {},
   "source": [
    "- random.normal() : 정규분포( normal distribution )를 고려한 랜덤한 수의 배열 생성\n",
    "- 평균 = 0 , 표준편차 = 1 , 3 * 3 배열"
   ]
  },
  {
   "cell_type": "code",
   "execution_count": 35,
   "metadata": {},
   "outputs": [
    {
     "data": {
      "text/plain": [
       "array([[ 1.27489969,  1.77150969,  1.47169902],\n",
       "       [ 0.43266239,  0.17645493, -0.19604244],\n",
       "       [-1.45165211,  0.90948824,  0.01631357]])"
      ]
     },
     "execution_count": 35,
     "metadata": {},
     "output_type": "execute_result"
    }
   ],
   "source": [
    "np.random.normal(0, 1, size=(3, 3))"
   ]
  },
  {
   "cell_type": "markdown",
   "metadata": {},
   "source": [
    "- random.rand() : 균등분포를 고려한 랜덤한 수의 배열 생성 "
   ]
  },
  {
   "cell_type": "code",
   "execution_count": 36,
   "metadata": {},
   "outputs": [
    {
     "data": {
      "text/plain": [
       "array([[0.10182291, 0.39981554, 0.54757228],\n",
       "       [0.79503151, 0.42708623, 0.33756339],\n",
       "       [0.71920746, 0.11778151, 0.24838798]])"
      ]
     },
     "execution_count": 36,
     "metadata": {},
     "output_type": "execute_result"
    }
   ],
   "source": [
    "np.random.rand(3, 3)"
   ]
  },
  {
   "cell_type": "markdown",
   "metadata": {},
   "source": [
    "- random.randn() : 표준 정규 분포( standard normal distribution )를 고려한 랜덤한 수의 배열 생성"
   ]
  },
  {
   "cell_type": "code",
   "execution_count": 37,
   "metadata": {},
   "outputs": [
    {
     "data": {
      "text/plain": [
       "array([[-1.1602073 , -0.14785764, -0.87927201],\n",
       "       [ 0.62409462,  0.05667365,  0.26603149],\n",
       "       [ 1.11652654,  0.48891172,  0.60092275]])"
      ]
     },
     "execution_count": 37,
     "metadata": {},
     "output_type": "execute_result"
    }
   ],
   "source": [
    "np.random.randn(3, 3)"
   ]
  },
  {
   "cell_type": "markdown",
   "metadata": {},
   "source": [
    "### 표준 데이터 타입 ( dtype )"
   ]
  },
  {
   "cell_type": "markdown",
   "metadata": {},
   "source": [
    "여러 배열을 생성하는 함수들에 dype 값을 설정하여 개별적으로 들어가는 원소의 자료형을 정해줄 수 있다."
   ]
  },
  {
   "cell_type": "code",
   "execution_count": 41,
   "metadata": {},
   "outputs": [
    {
     "data": {
      "text/plain": [
       "array([0, 0, 0, 0, 0, 0, 0, 0, 0, 0, 0, 0, 0, 0, 0, 0, 0, 0, 0, 0])"
      ]
     },
     "execution_count": 41,
     "metadata": {},
     "output_type": "execute_result"
    }
   ],
   "source": [
    "np.zeros(20, dtype=int)"
   ]
  },
  {
   "cell_type": "code",
   "execution_count": 42,
   "metadata": {},
   "outputs": [
    {
     "data": {
      "text/plain": [
       "array([[ True,  True,  True],\n",
       "       [ True,  True,  True],\n",
       "       [ True,  True,  True]])"
      ]
     },
     "execution_count": 42,
     "metadata": {},
     "output_type": "execute_result"
    }
   ],
   "source": [
    "np.ones((3,3), dtype=bool)"
   ]
  },
  {
   "cell_type": "code",
   "execution_count": 43,
   "metadata": {},
   "outputs": [
    {
     "data": {
      "text/plain": [
       "array([[1., 1., 1.],\n",
       "       [1., 1., 1.],\n",
       "       [1., 1., 1.]])"
      ]
     },
     "execution_count": 43,
     "metadata": {},
     "output_type": "execute_result"
    }
   ],
   "source": [
    "np.full((3, 3), 1.0, dtype=float)"
   ]
  },
  {
   "cell_type": "markdown",
   "metadata": {},
   "source": [
    "### 날짜/시간 배열 생성"
   ]
  },
  {
   "cell_type": "code",
   "execution_count": 46,
   "metadata": {},
   "outputs": [
    {
     "data": {
      "text/plain": [
       "array('2020-01-01', dtype='datetime64[D]')"
      ]
     },
     "execution_count": 46,
     "metadata": {},
     "output_type": "execute_result"
    }
   ],
   "source": [
    "date = np.array('2020-01-01', dtype=np.datetime64)\n",
    "date"
   ]
  },
  {
   "cell_type": "code",
   "execution_count": 47,
   "metadata": {},
   "outputs": [
    {
     "data": {
      "text/plain": [
       "array(['2020-01-01', '2020-01-02', '2020-01-03', '2020-01-04',\n",
       "       '2020-01-05', '2020-01-06', '2020-01-07', '2020-01-08',\n",
       "       '2020-01-09', '2020-01-10', '2020-01-11', '2020-01-12'],\n",
       "      dtype='datetime64[D]')"
      ]
     },
     "execution_count": 47,
     "metadata": {},
     "output_type": "execute_result"
    }
   ],
   "source": [
    "date + np.arange(12) # 0부터 11일 후까지의 날짜를 모두 출력\n",
    "# 날짜를 계산 가능한 수로 다룰 수 있다."
   ]
  },
  {
   "cell_type": "code",
   "execution_count": 48,
   "metadata": {},
   "outputs": [
    {
     "data": {
      "text/plain": [
       "numpy.datetime64('2020-06-01T12:00')"
      ]
     },
     "execution_count": 48,
     "metadata": {},
     "output_type": "execute_result"
    }
   ],
   "source": [
    "datetime = np.datetime64('2020-06-01 12:00')\n",
    "datetime"
   ]
  },
  {
   "cell_type": "code",
   "execution_count": 49,
   "metadata": {},
   "outputs": [
    {
     "data": {
      "text/plain": [
       "numpy.datetime64('2020-06-01T12:00:12.340000000')"
      ]
     },
     "execution_count": 49,
     "metadata": {},
     "output_type": "execute_result"
    }
   ],
   "source": [
    "datetime = np.datetime64('2020-06-01 12:00:12.34', 'ns')\n",
    "datetime"
   ]
  }
 ],
 "metadata": {
  "kernelspec": {
   "display_name": "Python 3.9.7 ('vscode')",
   "language": "python",
   "name": "python3"
  },
  "language_info": {
   "codemirror_mode": {
    "name": "ipython",
    "version": 3
   },
   "file_extension": ".py",
   "mimetype": "text/x-python",
   "name": "python",
   "nbconvert_exporter": "python",
   "pygments_lexer": "ipython3",
   "version": "3.9.7"
  },
  "orig_nbformat": 4,
  "vscode": {
   "interpreter": {
    "hash": "2bfdf95f64224930efe8c4672c86eeee98528d89004da92f06cad876fd4ab1dd"
   }
  }
 },
 "nbformat": 4,
 "nbformat_minor": 2
}
