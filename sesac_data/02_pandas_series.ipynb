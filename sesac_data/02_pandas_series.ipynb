{
 "cells": [
  {
   "cell_type": "code",
   "execution_count": 1,
   "metadata": {},
   "outputs": [],
   "source": [
    "import pandas as pd"
   ]
  },
  {
   "attachments": {},
   "cell_type": "markdown",
   "metadata": {},
   "source": [
    "## 1. 시리즈 만들기\n",
    "``` pd.Series(리스트) ```\n",
    "- 시리즈 = 엑셀 시트의 열 1개를 의미(1차원 리스트형태)"
   ]
  },
  {
   "cell_type": "code",
   "execution_count": 6,
   "metadata": {},
   "outputs": [],
   "source": [
    "# 시리즈 만들기\n",
    "list = ['amy', 170, 240]"
   ]
  },
  {
   "cell_type": "code",
   "execution_count": 9,
   "metadata": {},
   "outputs": [
    {
     "name": "stdout",
     "output_type": "stream",
     "text": [
      "<class 'list'>\n",
      "<class 'pandas.core.series.Series'>\n",
      "0    amy\n",
      "1    170\n",
      "2    240\n",
      "dtype: object\n"
     ]
    }
   ],
   "source": [
    "# 타입 확인하기\n",
    "print(type(list))\n",
    "s = pd.Series(list)\n",
    "print(type(s))\n",
    "print(s)"
   ]
  },
  {
   "attachments": {},
   "cell_type": "markdown",
   "metadata": {},
   "source": [
    "0, 1, 2 : Series의 인덱스 <br>\n",
    "amy, 170, 240 : 각 인덱스의 데이터"
   ]
  },
  {
   "attachments": {},
   "cell_type": "markdown",
   "metadata": {},
   "source": [
    "## 2. 시리즈의 index와 value 가져오기\n",
    "- 시리즈에는 index와 value가 있다.\n",
    "``` \n",
    "시리즈에서 index 가져오기 : Series.index\n",
    "시리즈에서 value 가져오기 : Series.values\n",
    "```\n",
    "- 시리즈의 인덱스는 리스트의 인덱스와 다른 개념이다.\n",
    "- 시리즈의 인덱스는 데이터의 이름이고, 행 번호는 따로 있다.\n"
   ]
  },
  {
   "cell_type": "code",
   "execution_count": 10,
   "metadata": {},
   "outputs": [
    {
     "data": {
      "text/plain": [
       "RangeIndex(start=0, stop=3, step=1)"
      ]
     },
     "execution_count": 10,
     "metadata": {},
     "output_type": "execute_result"
    }
   ],
   "source": [
    "s.index"
   ]
  },
  {
   "cell_type": "code",
   "execution_count": 11,
   "metadata": {},
   "outputs": [
    {
     "data": {
      "text/plain": [
       "array(['amy', 170, 240], dtype=object)"
      ]
     },
     "execution_count": 11,
     "metadata": {},
     "output_type": "execute_result"
    }
   ],
   "source": [
    "s.values"
   ]
  },
  {
   "attachments": {},
   "cell_type": "markdown",
   "metadata": {},
   "source": [
    "## 3. 시리즈의 index 지정하기\n",
    "```Series.index = 인덱스 리스트```\n",
    "- 시리즈의 인덱스는 숫자, 문자열 모두 가능하다. "
   ]
  },
  {
   "cell_type": "code",
   "execution_count": 12,
   "metadata": {},
   "outputs": [],
   "source": [
    "# 시리즈 인덱스 지정하기\n",
    "s.index = ['name', 'height', 'footSize']"
   ]
  },
  {
   "cell_type": "code",
   "execution_count": 13,
   "metadata": {},
   "outputs": [
    {
     "data": {
      "text/plain": [
       "name        amy\n",
       "height      170\n",
       "footSize    240\n",
       "dtype: object"
      ]
     },
     "execution_count": 13,
     "metadata": {},
     "output_type": "execute_result"
    }
   ],
   "source": [
    "# 시리즈 출력하기\n",
    "s"
   ]
  },
  {
   "cell_type": "code",
   "execution_count": 14,
   "metadata": {},
   "outputs": [
    {
     "data": {
      "text/plain": [
       "Index(['name', 'height', 'footSize'], dtype='object')"
      ]
     },
     "execution_count": 14,
     "metadata": {},
     "output_type": "execute_result"
    }
   ],
   "source": [
    "# 인덱스 확인하기\n",
    "s.index"
   ]
  },
  {
   "attachments": {},
   "cell_type": "markdown",
   "metadata": {},
   "source": [
    "## 4. 시리즈의 통계값 사용하기\n",
    "- 평균 : ``` Series.mean() ```\n",
    "- 최소값 : ``` Series.min() ```\n",
    "- 최대값 : ``` Series.max() ```\n",
    "- 중간값 : ``` Series.median() ```\n",
    "- 표준편차 : ``` Series.std() ```\n",
    "- Series의 통계값은 Series의 value가 모두 숫자형일 때 사용할 수 있다."
   ]
  },
  {
   "cell_type": "code",
   "execution_count": 15,
   "metadata": {},
   "outputs": [],
   "source": [
    "s2 = pd.Series([10, 20, 30, 40, 50])"
   ]
  },
  {
   "cell_type": "code",
   "execution_count": 17,
   "metadata": {},
   "outputs": [
    {
     "name": "stdout",
     "output_type": "stream",
     "text": [
      "평균 :  30.0\n",
      "최소값 :  10\n",
      "최대값 :  50\n",
      "중간값 :  30.0\n",
      "표준편차 :  15.811388300841896\n"
     ]
    }
   ],
   "source": [
    "print(\"평균 : \", s2.mean())\n",
    "print(\"최소값 : \", s2.min())\n",
    "print(\"최대값 : \", s2.max())\n",
    "print(\"중간값 : \", s2.median())\n",
    "print(\"표준편차 : \", s2.std())"
   ]
  },
  {
   "attachments": {},
   "cell_type": "markdown",
   "metadata": {},
   "source": [
    "### 4.1. 시리즈 요약통계\n",
    "``` Series.describe() ```"
   ]
  },
  {
   "cell_type": "code",
   "execution_count": 18,
   "metadata": {},
   "outputs": [
    {
     "data": {
      "text/plain": [
       "count     5.000000\n",
       "mean     30.000000\n",
       "std      15.811388\n",
       "min      10.000000\n",
       "25%      20.000000\n",
       "50%      30.000000\n",
       "75%      40.000000\n",
       "max      50.000000\n",
       "dtype: float64"
      ]
     },
     "execution_count": 18,
     "metadata": {},
     "output_type": "execute_result"
    }
   ],
   "source": [
    "s2.describe()"
   ]
  },
  {
   "attachments": {},
   "cell_type": "markdown",
   "metadata": {},
   "source": [
    "## 5. 시리즈 주요 메서드\n",
    "- 값 정렬 : ``` Series.sort_values() ```\n",
    "- 인덱스 정렬 : ``` Series.sort_index() ```\n",
    "- 인덱스 리셋 : ``` Series.reset_index() ```\n",
    "- 특정 ***값***을 가진 시리즈 값을 교체 : ``` Series.replace(찾을 값, 교체할 값) ```\n",
    "- 시리즈를 데이터프레임으로 변환 : ``` Series.to_frame() ```"
   ]
  },
  {
   "cell_type": "code",
   "execution_count": 28,
   "metadata": {},
   "outputs": [],
   "source": [
    "s3 = pd.Series([1, 3, 2, 4, 10])"
   ]
  },
  {
   "cell_type": "code",
   "execution_count": 30,
   "metadata": {},
   "outputs": [
    {
     "data": {
      "text/plain": [
       "0    1\n",
       "1    3\n",
       "2    2\n",
       "3    4\n",
       "4    5\n",
       "dtype: int64"
      ]
     },
     "execution_count": 30,
     "metadata": {},
     "output_type": "execute_result"
    }
   ],
   "source": [
    "# s3의 value 중 10을 5로 교체\n",
    "s3 = s3.replace(10, 5)\n",
    "s3"
   ]
  },
  {
   "cell_type": "code",
   "execution_count": 31,
   "metadata": {},
   "outputs": [
    {
     "data": {
      "text/plain": [
       "0    1\n",
       "2    2\n",
       "1    3\n",
       "3    4\n",
       "4    5\n",
       "dtype: int64"
      ]
     },
     "execution_count": 31,
     "metadata": {},
     "output_type": "execute_result"
    }
   ],
   "source": [
    "# s3 정렬(디폴트는 오름차순, ascending = True)\n",
    "s3.sort_values()"
   ]
  },
  {
   "cell_type": "code",
   "execution_count": 32,
   "metadata": {},
   "outputs": [
    {
     "data": {
      "text/plain": [
       "4    5\n",
       "3    4\n",
       "1    3\n",
       "2    2\n",
       "0    1\n",
       "dtype: int64"
      ]
     },
     "execution_count": 32,
     "metadata": {},
     "output_type": "execute_result"
    }
   ],
   "source": [
    "# s3 정렬(내림차순 : ascending = False)\n",
    "s3.sort_values(ascending = False)"
   ]
  },
  {
   "cell_type": "code",
   "execution_count": 33,
   "metadata": {},
   "outputs": [
    {
     "data": {
      "text/html": [
       "<div>\n",
       "<style scoped>\n",
       "    .dataframe tbody tr th:only-of-type {\n",
       "        vertical-align: middle;\n",
       "    }\n",
       "\n",
       "    .dataframe tbody tr th {\n",
       "        vertical-align: top;\n",
       "    }\n",
       "\n",
       "    .dataframe thead th {\n",
       "        text-align: right;\n",
       "    }\n",
       "</style>\n",
       "<table border=\"1\" class=\"dataframe\">\n",
       "  <thead>\n",
       "    <tr style=\"text-align: right;\">\n",
       "      <th></th>\n",
       "      <th>0</th>\n",
       "    </tr>\n",
       "  </thead>\n",
       "  <tbody>\n",
       "    <tr>\n",
       "      <th>0</th>\n",
       "      <td>1</td>\n",
       "    </tr>\n",
       "    <tr>\n",
       "      <th>1</th>\n",
       "      <td>3</td>\n",
       "    </tr>\n",
       "    <tr>\n",
       "      <th>2</th>\n",
       "      <td>2</td>\n",
       "    </tr>\n",
       "    <tr>\n",
       "      <th>3</th>\n",
       "      <td>4</td>\n",
       "    </tr>\n",
       "    <tr>\n",
       "      <th>4</th>\n",
       "      <td>5</td>\n",
       "    </tr>\n",
       "  </tbody>\n",
       "</table>\n",
       "</div>"
      ],
      "text/plain": [
       "   0\n",
       "0  1\n",
       "1  3\n",
       "2  2\n",
       "3  4\n",
       "4  5"
      ]
     },
     "execution_count": 33,
     "metadata": {},
     "output_type": "execute_result"
    }
   ],
   "source": [
    "# s3을 데이터프레임으로 만들기\n",
    "s3.to_frame()"
   ]
  },
  {
   "cell_type": "code",
   "execution_count": 34,
   "metadata": {},
   "outputs": [
    {
     "name": "stdout",
     "output_type": "stream",
     "text": [
      "Index(['zero', 'one', 'two', 'three', 'four'], dtype='object')\n",
      "zero     1\n",
      "one      3\n",
      "two      2\n",
      "three    4\n",
      "four     5\n",
      "dtype: int64\n"
     ]
    }
   ],
   "source": [
    "# 시리즈 인덱스 새로 만들기\n",
    "s3.index = ['zero', 'one', 'two', 'three', 'four']\n",
    "print(s3.index)\n",
    "print(s3)\n"
   ]
  },
  {
   "cell_type": "code",
   "execution_count": 35,
   "metadata": {},
   "outputs": [
    {
     "data": {
      "text/html": [
       "<div>\n",
       "<style scoped>\n",
       "    .dataframe tbody tr th:only-of-type {\n",
       "        vertical-align: middle;\n",
       "    }\n",
       "\n",
       "    .dataframe tbody tr th {\n",
       "        vertical-align: top;\n",
       "    }\n",
       "\n",
       "    .dataframe thead th {\n",
       "        text-align: right;\n",
       "    }\n",
       "</style>\n",
       "<table border=\"1\" class=\"dataframe\">\n",
       "  <thead>\n",
       "    <tr style=\"text-align: right;\">\n",
       "      <th></th>\n",
       "      <th>index</th>\n",
       "      <th>0</th>\n",
       "    </tr>\n",
       "  </thead>\n",
       "  <tbody>\n",
       "    <tr>\n",
       "      <th>0</th>\n",
       "      <td>name</td>\n",
       "      <td>amy</td>\n",
       "    </tr>\n",
       "    <tr>\n",
       "      <th>1</th>\n",
       "      <td>height</td>\n",
       "      <td>170</td>\n",
       "    </tr>\n",
       "    <tr>\n",
       "      <th>2</th>\n",
       "      <td>footSize</td>\n",
       "      <td>240</td>\n",
       "    </tr>\n",
       "  </tbody>\n",
       "</table>\n",
       "</div>"
      ],
      "text/plain": [
       "      index    0\n",
       "0      name  amy\n",
       "1    height  170\n",
       "2  footSize  240"
      ]
     },
     "execution_count": 35,
     "metadata": {},
     "output_type": "execute_result"
    }
   ],
   "source": [
    "# 시리즈 인덱스 새로 만들기\n",
    "s.reset_index()"
   ]
  },
  {
   "attachments": {},
   "cell_type": "markdown",
   "metadata": {},
   "source": [
    "기존의 인덱스는 지워지는 것이 아니라 한 column 안에 백업이 된다. <br>\n",
    "그리고 나서 새로운 인덱스가 생성된다. "
   ]
  }
 ],
 "metadata": {
  "kernelspec": {
   "display_name": "vscode",
   "language": "python",
   "name": "python3"
  },
  "language_info": {
   "codemirror_mode": {
    "name": "ipython",
    "version": 3
   },
   "file_extension": ".py",
   "mimetype": "text/x-python",
   "name": "python",
   "nbconvert_exporter": "python",
   "pygments_lexer": "ipython3",
   "version": "3.9.13"
  },
  "orig_nbformat": 4,
  "vscode": {
   "interpreter": {
    "hash": "2bfdf95f64224930efe8c4672c86eeee98528d89004da92f06cad876fd4ab1dd"
   }
  }
 },
 "nbformat": 4,
 "nbformat_minor": 2
}
